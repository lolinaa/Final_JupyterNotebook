{
 "cells": [
  {
   "cell_type": "markdown",
   "id": "b3bd87bc-4b0a-4ba0-b9a1-b6fc18ec5f57",
   "metadata": {},
   "source": [
    "# Data Science Tools and Ecosystem"
   ]
  },
  {
   "cell_type": "markdown",
   "id": "f2d45a39-ea92-4f4e-852d-28b1f6b8dbef",
   "metadata": {},
   "source": [
    "In this notebook, Data Science Tools and Ecosystem are summarized."
   ]
  },
  {
   "cell_type": "markdown",
   "id": "d690f56e-c356-4d18-8cf6-22f6dfec8999",
   "metadata": {},
   "source": [
    "**Objectives:**\n",
    " - List popular languages for Data Science\n",
    " - List commonly used libraries by Data Scientists\n",
    " - List useful Data Science tools and development environments"
   ]
  },
  {
   "cell_type": "markdown",
   "id": "7ae5ab02-e5b8-4b3b-883a-7ede554f5878",
   "metadata": {},
   "source": [
    "Some of the popular languages that Data Scientists use are:\n",
    "1. Python\n",
    "2. R\n",
    "3. SQL\n",
    "4. Java\n",
    "5. Julia\n",
    "6. Scala"
   ]
  },
  {
   "cell_type": "markdown",
   "id": "ddf64360-0861-476a-8624-7903218e76c9",
   "metadata": {},
   "source": [
    "Some of the commonly used libraries used by Data Scientists include:\n",
    "1. TensorFlow\n",
    "2. SciPy\n",
    "3. NumPy\n",
    "4. Pandas\n",
    "5. Matplotlib\n"
   ]
  },
  {
   "cell_type": "markdown",
   "id": "dd721604-1506-4c71-9e95-81884f902c05",
   "metadata": {},
   "source": [
    "|Data Science Tools|\n",
    "|------------------|\n",
    "|Jupyter Notebooks|\n",
    "|RStudio|\n",
    "|Github|"
   ]
  },
  {
   "cell_type": "markdown",
   "id": "d356eb8f-425c-401b-9069-004365d4261a",
   "metadata": {},
   "source": [
    "### Below are a few examples of evaluating arithmetic expressions in Python"
   ]
  },
  {
   "cell_type": "code",
   "execution_count": 2,
   "id": "f355baa7-5b4b-43cc-a4ae-00d8c926c3b7",
   "metadata": {},
   "outputs": [
    {
     "data": {
      "text/plain": [
       "17"
      ]
     },
     "execution_count": 2,
     "metadata": {},
     "output_type": "execute_result"
    }
   ],
   "source": [
    "# This a simple arithmetic expression to mutiply then add integers\n",
    "(3*4)+5"
   ]
  },
  {
   "cell_type": "code",
   "execution_count": 8,
   "id": "ef72300c-9517-457c-b3bf-3c6f2aced2ac",
   "metadata": {},
   "outputs": [
    {
     "name": "stdout",
     "output_type": "stream",
     "text": [
      "Hours= 3.3333333333333335\n"
     ]
    }
   ],
   "source": [
    "#  This will convert 200 minutes to hours by diving by 60\n",
    "min=200\n",
    "h=min/60\n",
    "print(\"Hours=\",h)"
   ]
  },
  {
   "cell_type": "markdown",
   "id": "e9f0ddd4-531f-4011-a77c-05f7845090c4",
   "metadata": {},
   "source": [
    "## Author\n",
    "Lolina Azizova"
   ]
  },
  {
   "cell_type": "code",
   "execution_count": null,
   "id": "2ffdbbae-26b7-4885-bf97-1003cb09b6ef",
   "metadata": {},
   "outputs": [],
   "source": []
  }
 ],
 "metadata": {
  "kernelspec": {
   "display_name": "Python 3 (ipykernel)",
   "language": "python",
   "name": "python3"
  },
  "language_info": {
   "codemirror_mode": {
    "name": "ipython",
    "version": 3
   },
   "file_extension": ".py",
   "mimetype": "text/x-python",
   "name": "python",
   "nbconvert_exporter": "python",
   "pygments_lexer": "ipython3",
   "version": "3.11.7"
  }
 },
 "nbformat": 4,
 "nbformat_minor": 5
}
